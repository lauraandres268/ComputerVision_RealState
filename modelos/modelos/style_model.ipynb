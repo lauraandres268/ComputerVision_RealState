{
  "cells": [
    {
      "cell_type": "markdown",
      "id": "e1f4ae5c",
      "metadata": {
        "id": "e1f4ae5c"
      },
      "source": [
        "# 1. Crear subdataset etiquetado"
      ]
    },
    {
      "cell_type": "code",
      "execution_count": 1,
      "id": "b68ee36d",
      "metadata": {
        "id": "b68ee36d"
      },
      "outputs": [],
      "source": [
        "import os\n",
        "import shutil\n",
        "import pandas as pd\n",
        "from glob import glob\n",
        "\n",
        "def crear_submuestra(dataset_path, output_folder, num_muestras=100):\n",
        "    # dataset_path: carpeta train o test con subcarpetas por estilo\n",
        "    # output_folder: donde copiar las imágenes\n",
        "    # num_muestras: número de imágenes a coger por estilo\n",
        "\n",
        "    os.makedirs(output_folder, exist_ok=True)\n",
        "\n",
        "    data = []\n",
        "    estilos = sorted([d for d in os.listdir(dataset_path) if os.path.isdir(os.path.join(dataset_path, d))])\n",
        "\n",
        "    for estilo in estilos:\n",
        "        estilo_path = os.path.join(dataset_path, estilo)\n",
        "        imagenes = sorted(glob(os.path.join(estilo_path, '*.*')))  # todas las imágenes\n",
        "        seleccionadas = imagenes[:num_muestras]\n",
        "\n",
        "        for img_path in seleccionadas:\n",
        "            filename = os.path.basename(img_path)\n",
        "            dst_path = os.path.join(output_folder, filename)\n",
        "\n",
        "            # Copiar imagen\n",
        "            shutil.copy(img_path, dst_path)\n",
        "\n",
        "            # Guardar registro: id=nombre original, label=estilo\n",
        "            data.append({'id': filename, 'label': estilo})\n",
        "\n",
        "    # Crear DataFrame y guardarlo\n",
        "    df = pd.DataFrame(data)\n",
        "    csv_path = os.path.join(output_folder, 'labels.csv')\n",
        "    df.to_csv(csv_path, index=False)\n",
        "\n",
        "    print(f\"Copiadas {len(data)} imágenes y creado CSV en {csv_path}\")\n",
        "    return csv_path\n"
      ]
    },
    {
      "cell_type": "code",
      "execution_count": null,
      "id": "dee1417c",
      "metadata": {
        "id": "dee1417c"
      },
      "outputs": [],
      "source": [
        "def renombrar_imagenes_y_actualizar_csv(folder_path, csv_path):\n",
        "    df = pd.read_csv(csv_path)\n",
        "\n",
        "    new_ids = []\n",
        "    for i, row in df.iterrows():\n",
        "        old_name = row['id']\n",
        "        new_name = f\"{i+1}.jpg\"\n",
        "\n",
        "        old_path = os.path.join(folder_path, old_name)\n",
        "        new_path = os.path.join(folder_path, new_name)\n",
        "\n",
        "        os.rename(old_path, new_path)\n",
        "        new_ids.append(new_name)\n",
        "\n",
        "    df['id'] = new_ids\n",
        "    df.to_csv(csv_path, index=False)\n",
        "\n",
        "    print(f\"Imágenes renombradas y CSV actualizado en {csv_path}\")\n"
      ]
    },
    {
      "cell_type": "code",
      "execution_count": null,
      "id": "a6708e7c",
      "metadata": {
        "id": "a6708e7c",
        "outputId": "9de31c61-e048-4daa-b5b5-74dd619b7ec0"
      },
      "outputs": [
        {
          "name": "stdout",
          "output_type": "stream",
          "text": [
            "Copiadas 1900 imágenes y creado CSV en submuestra/labels.csv\n"
          ]
        }
      ],
      "source": [
        "dataset_train_path = 'dataset_train/dataset_train'\n",
        "output_folder = 'submuestra'\n",
        "num_muestras = 100\n",
        "\n",
        "csv_path = crear_submuestra(dataset_train_path, output_folder, num_muestras)\n"
      ]
    },
    {
      "cell_type": "code",
      "execution_count": null,
      "id": "a7b61633",
      "metadata": {
        "id": "a7b61633"
      },
      "outputs": [],
      "source": [
        "csv = pd.read_csv('submuestra/labels.csv')"
      ]
    },
    {
      "cell_type": "code",
      "execution_count": null,
      "id": "1c8d2ce3",
      "metadata": {
        "id": "1c8d2ce3",
        "outputId": "13b2724b-e9d8-45c6-b5e0-6e3f1599fd46"
      },
      "outputs": [
        {
          "data": {
            "text/html": [
              "<div>\n",
              "<style scoped>\n",
              "    .dataframe tbody tr th:only-of-type {\n",
              "        vertical-align: middle;\n",
              "    }\n",
              "\n",
              "    .dataframe tbody tr th {\n",
              "        vertical-align: top;\n",
              "    }\n",
              "\n",
              "    .dataframe thead th {\n",
              "        text-align: right;\n",
              "    }\n",
              "</style>\n",
              "<table border=\"1\" class=\"dataframe\">\n",
              "  <thead>\n",
              "    <tr style=\"text-align: right;\">\n",
              "      <th></th>\n",
              "      <th>id</th>\n",
              "      <th>label</th>\n",
              "    </tr>\n",
              "  </thead>\n",
              "  <tbody>\n",
              "    <tr>\n",
              "      <th>0</th>\n",
              "      <td>asian_0.jpg</td>\n",
              "      <td>asian</td>\n",
              "    </tr>\n",
              "    <tr>\n",
              "      <th>1</th>\n",
              "      <td>asian_1.jpg</td>\n",
              "      <td>asian</td>\n",
              "    </tr>\n",
              "    <tr>\n",
              "      <th>2</th>\n",
              "      <td>asian_10.jpg</td>\n",
              "      <td>asian</td>\n",
              "    </tr>\n",
              "    <tr>\n",
              "      <th>3</th>\n",
              "      <td>asian_100.jpg</td>\n",
              "      <td>asian</td>\n",
              "    </tr>\n",
              "    <tr>\n",
              "      <th>4</th>\n",
              "      <td>asian_101.jpg</td>\n",
              "      <td>asian</td>\n",
              "    </tr>\n",
              "    <tr>\n",
              "      <th>...</th>\n",
              "      <td>...</td>\n",
              "      <td>...</td>\n",
              "    </tr>\n",
              "    <tr>\n",
              "      <th>1895</th>\n",
              "      <td>victorian_204.jpg</td>\n",
              "      <td>victorian</td>\n",
              "    </tr>\n",
              "    <tr>\n",
              "      <th>1896</th>\n",
              "      <td>victorian_205.jpg</td>\n",
              "      <td>victorian</td>\n",
              "    </tr>\n",
              "    <tr>\n",
              "      <th>1897</th>\n",
              "      <td>victorian_206.jpg</td>\n",
              "      <td>victorian</td>\n",
              "    </tr>\n",
              "    <tr>\n",
              "      <th>1898</th>\n",
              "      <td>victorian_207.jpg</td>\n",
              "      <td>victorian</td>\n",
              "    </tr>\n",
              "    <tr>\n",
              "      <th>1899</th>\n",
              "      <td>victorian_208.jpg</td>\n",
              "      <td>victorian</td>\n",
              "    </tr>\n",
              "  </tbody>\n",
              "</table>\n",
              "<p>1900 rows × 2 columns</p>\n",
              "</div>"
            ],
            "text/plain": [
              "                     id      label\n",
              "0           asian_0.jpg      asian\n",
              "1           asian_1.jpg      asian\n",
              "2          asian_10.jpg      asian\n",
              "3         asian_100.jpg      asian\n",
              "4         asian_101.jpg      asian\n",
              "...                 ...        ...\n",
              "1895  victorian_204.jpg  victorian\n",
              "1896  victorian_205.jpg  victorian\n",
              "1897  victorian_206.jpg  victorian\n",
              "1898  victorian_207.jpg  victorian\n",
              "1899  victorian_208.jpg  victorian\n",
              "\n",
              "[1900 rows x 2 columns]"
            ]
          },
          "execution_count": 5,
          "metadata": {},
          "output_type": "execute_result"
        }
      ],
      "source": []
    },
    {
      "cell_type": "code",
      "execution_count": null,
      "id": "d7aa3ce0",
      "metadata": {
        "id": "d7aa3ce0",
        "outputId": "f9778931-5fd0-4e8e-8ef5-2b3c5a26cbae"
      },
      "outputs": [
        {
          "name": "stdout",
          "output_type": "stream",
          "text": [
            "Imágenes renombradas y CSV actualizado en submuestra/labels.csv\n"
          ]
        }
      ],
      "source": [
        "renombrar_imagenes_y_actualizar_csv(output_folder, csv_path)"
      ]
    },
    {
      "cell_type": "code",
      "execution_count": null,
      "id": "767f8d54",
      "metadata": {
        "id": "767f8d54",
        "outputId": "4d5cdad9-99e8-4c4d-e377-6a309cf2592e"
      },
      "outputs": [
        {
          "data": {
            "text/html": [
              "<div>\n",
              "<style scoped>\n",
              "    .dataframe tbody tr th:only-of-type {\n",
              "        vertical-align: middle;\n",
              "    }\n",
              "\n",
              "    .dataframe tbody tr th {\n",
              "        vertical-align: top;\n",
              "    }\n",
              "\n",
              "    .dataframe thead th {\n",
              "        text-align: right;\n",
              "    }\n",
              "</style>\n",
              "<table border=\"1\" class=\"dataframe\">\n",
              "  <thead>\n",
              "    <tr style=\"text-align: right;\">\n",
              "      <th></th>\n",
              "      <th>id</th>\n",
              "      <th>label</th>\n",
              "    </tr>\n",
              "  </thead>\n",
              "  <tbody>\n",
              "    <tr>\n",
              "      <th>0</th>\n",
              "      <td>1.jpg</td>\n",
              "      <td>asian</td>\n",
              "    </tr>\n",
              "    <tr>\n",
              "      <th>1</th>\n",
              "      <td>2.jpg</td>\n",
              "      <td>asian</td>\n",
              "    </tr>\n",
              "    <tr>\n",
              "      <th>2</th>\n",
              "      <td>3.jpg</td>\n",
              "      <td>asian</td>\n",
              "    </tr>\n",
              "    <tr>\n",
              "      <th>3</th>\n",
              "      <td>4.jpg</td>\n",
              "      <td>asian</td>\n",
              "    </tr>\n",
              "    <tr>\n",
              "      <th>4</th>\n",
              "      <td>5.jpg</td>\n",
              "      <td>asian</td>\n",
              "    </tr>\n",
              "    <tr>\n",
              "      <th>...</th>\n",
              "      <td>...</td>\n",
              "      <td>...</td>\n",
              "    </tr>\n",
              "    <tr>\n",
              "      <th>1895</th>\n",
              "      <td>1896.jpg</td>\n",
              "      <td>victorian</td>\n",
              "    </tr>\n",
              "    <tr>\n",
              "      <th>1896</th>\n",
              "      <td>1897.jpg</td>\n",
              "      <td>victorian</td>\n",
              "    </tr>\n",
              "    <tr>\n",
              "      <th>1897</th>\n",
              "      <td>1898.jpg</td>\n",
              "      <td>victorian</td>\n",
              "    </tr>\n",
              "    <tr>\n",
              "      <th>1898</th>\n",
              "      <td>1899.jpg</td>\n",
              "      <td>victorian</td>\n",
              "    </tr>\n",
              "    <tr>\n",
              "      <th>1899</th>\n",
              "      <td>1900.jpg</td>\n",
              "      <td>victorian</td>\n",
              "    </tr>\n",
              "  </tbody>\n",
              "</table>\n",
              "<p>1900 rows × 2 columns</p>\n",
              "</div>"
            ],
            "text/plain": [
              "            id      label\n",
              "0        1.jpg      asian\n",
              "1        2.jpg      asian\n",
              "2        3.jpg      asian\n",
              "3        4.jpg      asian\n",
              "4        5.jpg      asian\n",
              "...        ...        ...\n",
              "1895  1896.jpg  victorian\n",
              "1896  1897.jpg  victorian\n",
              "1897  1898.jpg  victorian\n",
              "1898  1899.jpg  victorian\n",
              "1899  1900.jpg  victorian\n",
              "\n",
              "[1900 rows x 2 columns]"
            ]
          },
          "execution_count": 7,
          "metadata": {},
          "output_type": "execute_result"
        }
      ],
      "source": [
        "csv = pd.read_csv('submuestra/labels.csv')\n",
        "csv"
      ]
    },
    {
      "cell_type": "markdown",
      "id": "07bf72f5",
      "metadata": {
        "id": "07bf72f5"
      },
      "source": [
        "## datos de test"
      ]
    },
    {
      "cell_type": "code",
      "execution_count": null,
      "id": "dc6d3efe",
      "metadata": {
        "id": "dc6d3efe",
        "outputId": "4438a738-6b4c-4a18-fa9e-b7e0ba2f5d57"
      },
      "outputs": [
        {
          "name": "stdout",
          "output_type": "stream",
          "text": [
            "Copiadas 152 imágenes y creado CSV en submuestra/test/labels.csv\n"
          ]
        }
      ],
      "source": [
        "dataset_train_path = 'dataset_test/dataset_test'\n",
        "output_folder = 'submuestra/test'\n",
        "num_muestras = 8\n",
        "\n",
        "csv_path = crear_submuestra(dataset_train_path, output_folder, num_muestras)\n"
      ]
    },
    {
      "cell_type": "code",
      "execution_count": null,
      "id": "3ae845e5",
      "metadata": {
        "id": "3ae845e5",
        "outputId": "3bf25bfa-dfab-42e0-8d48-61f3dd96bbdf"
      },
      "outputs": [
        {
          "name": "stdout",
          "output_type": "stream",
          "text": [
            "Imágenes renombradas y CSV actualizado en submuestra/test/labels.csv\n"
          ]
        }
      ],
      "source": [
        "renombrar_imagenes_y_actualizar_csv(output_folder, csv_path)"
      ]
    },
    {
      "cell_type": "code",
      "execution_count": null,
      "id": "41a007ce",
      "metadata": {
        "id": "41a007ce",
        "outputId": "64001139-794d-461b-8d87-12d78e0fbe26"
      },
      "outputs": [
        {
          "data": {
            "text/html": [
              "<div>\n",
              "<style scoped>\n",
              "    .dataframe tbody tr th:only-of-type {\n",
              "        vertical-align: middle;\n",
              "    }\n",
              "\n",
              "    .dataframe tbody tr th {\n",
              "        vertical-align: top;\n",
              "    }\n",
              "\n",
              "    .dataframe thead th {\n",
              "        text-align: right;\n",
              "    }\n",
              "</style>\n",
              "<table border=\"1\" class=\"dataframe\">\n",
              "  <thead>\n",
              "    <tr style=\"text-align: right;\">\n",
              "      <th></th>\n",
              "      <th>id</th>\n",
              "      <th>label</th>\n",
              "    </tr>\n",
              "  </thead>\n",
              "  <tbody>\n",
              "    <tr>\n",
              "      <th>0</th>\n",
              "      <td>1.jpg</td>\n",
              "      <td>asian</td>\n",
              "    </tr>\n",
              "    <tr>\n",
              "      <th>1</th>\n",
              "      <td>2.jpg</td>\n",
              "      <td>asian</td>\n",
              "    </tr>\n",
              "    <tr>\n",
              "      <th>2</th>\n",
              "      <td>3.jpg</td>\n",
              "      <td>asian</td>\n",
              "    </tr>\n",
              "    <tr>\n",
              "      <th>3</th>\n",
              "      <td>4.jpg</td>\n",
              "      <td>asian</td>\n",
              "    </tr>\n",
              "    <tr>\n",
              "      <th>4</th>\n",
              "      <td>5.jpg</td>\n",
              "      <td>asian</td>\n",
              "    </tr>\n",
              "    <tr>\n",
              "      <th>...</th>\n",
              "      <td>...</td>\n",
              "      <td>...</td>\n",
              "    </tr>\n",
              "    <tr>\n",
              "      <th>147</th>\n",
              "      <td>148.jpg</td>\n",
              "      <td>victorian</td>\n",
              "    </tr>\n",
              "    <tr>\n",
              "      <th>148</th>\n",
              "      <td>149.jpg</td>\n",
              "      <td>victorian</td>\n",
              "    </tr>\n",
              "    <tr>\n",
              "      <th>149</th>\n",
              "      <td>150.jpg</td>\n",
              "      <td>victorian</td>\n",
              "    </tr>\n",
              "    <tr>\n",
              "      <th>150</th>\n",
              "      <td>151.jpg</td>\n",
              "      <td>victorian</td>\n",
              "    </tr>\n",
              "    <tr>\n",
              "      <th>151</th>\n",
              "      <td>152.jpg</td>\n",
              "      <td>victorian</td>\n",
              "    </tr>\n",
              "  </tbody>\n",
              "</table>\n",
              "<p>152 rows × 2 columns</p>\n",
              "</div>"
            ],
            "text/plain": [
              "          id      label\n",
              "0      1.jpg      asian\n",
              "1      2.jpg      asian\n",
              "2      3.jpg      asian\n",
              "3      4.jpg      asian\n",
              "4      5.jpg      asian\n",
              "..       ...        ...\n",
              "147  148.jpg  victorian\n",
              "148  149.jpg  victorian\n",
              "149  150.jpg  victorian\n",
              "150  151.jpg  victorian\n",
              "151  152.jpg  victorian\n",
              "\n",
              "[152 rows x 2 columns]"
            ]
          },
          "execution_count": 13,
          "metadata": {},
          "output_type": "execute_result"
        }
      ],
      "source": [
        "csv = pd.read_csv('submuestra/test/labels.csv')\n",
        "csv"
      ]
    },
    {
      "cell_type": "markdown",
      "id": "01632915",
      "metadata": {
        "id": "01632915"
      },
      "source": [
        "# 2 Creamos clase para preparar los datos"
      ]
    },
    {
      "cell_type": "code",
      "execution_count": 1,
      "id": "253af3a0",
      "metadata": {
        "id": "253af3a0"
      },
      "outputs": [],
      "source": [
        "import os\n",
        "import pandas as pd\n",
        "from PIL import Image\n",
        "from torch.utils.data import Dataset, DataLoader\n",
        "import torch\n",
        "import torch.nn as nn\n",
        "import torch.optim as optim\n",
        "from torchvision import models, transforms"
      ]
    },
    {
      "cell_type": "code",
      "execution_count": 2,
      "id": "1ff8f9aa",
      "metadata": {
        "colab": {
          "base_uri": "https://localhost:8080/"
        },
        "id": "1ff8f9aa",
        "outputId": "b3d8b1e8-a129-4ad7-dcca-46f1dd761e14"
      },
      "outputs": [
        {
          "output_type": "stream",
          "name": "stdout",
          "text": [
            "Drive already mounted at /content/drive; to attempt to forcibly remount, call drive.mount(\"/content/drive\", force_remount=True).\n"
          ]
        }
      ],
      "source": [
        "from google.colab import drive\n",
        "drive.mount('/content/drive')"
      ]
    },
    {
      "cell_type": "code",
      "execution_count": 3,
      "id": "3373295f",
      "metadata": {
        "id": "3373295f"
      },
      "outputs": [],
      "source": [
        "\n",
        "class EstilosDataset(Dataset):\n",
        "    def __init__(self, csv_file, root_dir, transform=None):\n",
        "        self.df = pd.read_csv(csv_file)\n",
        "        self.root_dir = root_dir\n",
        "        self.transform = transform\n",
        "        self.labels = sorted(self.df['label'].unique())\n",
        "        self.label2idx = {label: idx for idx, label in enumerate(self.labels)}\n",
        "\n",
        "    def __len__(self):\n",
        "        return len(self.df)\n",
        "\n",
        "    def __getitem__(self, idx):\n",
        "        img_name = os.path.join(self.root_dir, self.df.iloc[idx]['id'])\n",
        "        image = Image.open(img_name).convert('RGB')\n",
        "        label = self.label2idx[self.df.iloc[idx]['label']]\n",
        "        if self.transform:\n",
        "            image = self.transform(image)\n",
        "        return image, label\n",
        "\n",
        "# Data augmentation mejorada para train\n",
        "transform_train = transforms.Compose([\n",
        "    transforms.RandomResizedCrop(224),  # crop + resize para más variedad\n",
        "    transforms.RandomHorizontalFlip(),\n",
        "    transforms.ColorJitter(brightness=0.3, contrast=0.3, saturation=0.3, hue=0.1),\n",
        "    transforms.ToTensor(),\n",
        "    transforms.Normalize(mean=[0.485, 0.456, 0.406],\n",
        "                         std=[0.229, 0.224, 0.225])\n",
        "])\n",
        "\n",
        "transform_test = transforms.Compose([\n",
        "    transforms.Resize((224, 224)),\n",
        "    transforms.ToTensor(),\n",
        "    transforms.Normalize(mean=[0.485, 0.456, 0.406],\n",
        "                         std=[0.229, 0.224, 0.225])\n",
        "])\n"
      ]
    },
    {
      "cell_type": "code",
      "execution_count": 4,
      "id": "56dcbd4c",
      "metadata": {
        "id": "56dcbd4c"
      },
      "outputs": [],
      "source": [
        "base_path = '/content/drive/MyDrive/style'\n",
        "train_csv = os.path.join(base_path, 'train.csv')\n",
        "test_csv = os.path.join(base_path, 'test.csv')\n",
        "train_dir = os.path.join(base_path, 'train')\n",
        "test_dir = os.path.join(base_path, 'test')\n"
      ]
    },
    {
      "cell_type": "code",
      "execution_count": 5,
      "id": "9cb1910e",
      "metadata": {
        "id": "9cb1910e"
      },
      "outputs": [],
      "source": [
        "\n",
        "train_dataset = EstilosDataset(train_csv, train_dir, transform=transform_train)\n",
        "test_dataset = EstilosDataset(test_csv, test_dir, transform=transform_test)\n",
        "\n",
        "train_loader = DataLoader(train_dataset, batch_size=64, shuffle=True, num_workers=2, pin_memory=True)\n",
        "test_loader = DataLoader(test_dataset, batch_size=64, shuffle=False, num_workers=2, pin_memory=True)\n"
      ]
    },
    {
      "cell_type": "code",
      "execution_count": 15,
      "id": "5424f33b",
      "metadata": {
        "id": "5424f33b"
      },
      "outputs": [],
      "source": [
        "\n",
        "device = torch.device('cuda' if torch.cuda.is_available() else 'cpu')\n",
        "\n",
        "num_classes = 19  # tus clases\n",
        "\n",
        "# Cargar modelo preentrenado y reemplazar capa final\n",
        "model = models.resnet18(pretrained=True)\n",
        "model.fc = nn.Linear(model.fc.in_features, num_classes)\n",
        "\n",
        "# Congelar todas las capas excepto layer4 y fc\n",
        "for name, param in model.named_parameters():\n",
        "    if not (name.startswith('layer4') or name.startswith('fc')):\n",
        "        param.requires_grad = False\n",
        "\n",
        "model = model.to(device)\n",
        "\n",
        "criterion = nn.CrossEntropyLoss()\n",
        "\n",
        "# Optimizer solo para parámetros que requieren gradiente (layer4 + fc)\n",
        "optimizer = optim.Adam(filter(lambda p: p.requires_grad, model.parameters()), lr=5e-5, weight_decay=1e-4)\n"
      ]
    },
    {
      "cell_type": "code",
      "execution_count": 16,
      "id": "676a5e94",
      "metadata": {
        "id": "676a5e94"
      },
      "outputs": [],
      "source": [
        "\n",
        "def train_epoch(model, dataloader, criterion, optimizer, device):\n",
        "    model.train()\n",
        "    running_loss = 0.0\n",
        "    correct = 0\n",
        "    total = 0\n",
        "    for images, labels in dataloader:\n",
        "        images = images.to(device)\n",
        "        labels = labels.to(device)\n",
        "        optimizer.zero_grad()\n",
        "        outputs = model(images)\n",
        "        loss = criterion(outputs, labels)\n",
        "        loss.backward()\n",
        "        optimizer.step()\n",
        "        running_loss += loss.item()\n",
        "        _, predicted = torch.max(outputs.data, 1)\n",
        "        total += labels.size(0)\n",
        "        correct += (predicted == labels).sum().item()\n",
        "    epoch_loss = running_loss / len(dataloader)\n",
        "    epoch_acc = correct / total\n",
        "    return epoch_loss, epoch_acc\n"
      ]
    },
    {
      "cell_type": "code",
      "execution_count": 17,
      "id": "f5ebb046",
      "metadata": {
        "id": "f5ebb046"
      },
      "outputs": [],
      "source": [
        "\n",
        "def eval_model(model, dataloader, criterion, device):\n",
        "    model.eval()\n",
        "    running_loss = 0.0\n",
        "    correct = 0\n",
        "    total = 0\n",
        "    with torch.no_grad():\n",
        "        for images, labels in dataloader:\n",
        "            images = images.to(device)\n",
        "            labels = labels.to(device)\n",
        "            outputs = model(images)\n",
        "            loss = criterion(outputs, labels)\n",
        "            running_loss += loss.item()\n",
        "            _, predicted = torch.max(outputs.data, 1)\n",
        "            total += labels.size(0)\n",
        "            correct += (predicted == labels).sum().item()\n",
        "    epoch_loss = running_loss / len(dataloader)\n",
        "    epoch_acc = correct / total\n",
        "    return epoch_loss, epoch_acc"
      ]
    },
    {
      "cell_type": "code",
      "execution_count": null,
      "id": "11dbe3b9",
      "metadata": {
        "colab": {
          "base_uri": "https://localhost:8080/"
        },
        "id": "11dbe3b9",
        "outputId": "03a5fbe1-9d0b-48ef-dd82-e1386ba4a536"
      },
      "outputs": [
        {
          "output_type": "stream",
          "name": "stdout",
          "text": [
            "Epoch 1/30:\n",
            "  Train loss: 2.9581, Train acc: 0.0726\n",
            "  Val loss:   2.8562, Val acc:   0.1018\n"
          ]
        }
      ],
      "source": [
        "\n",
        "num_epochs = 30\n",
        "\n",
        "for epoch in range(num_epochs):\n",
        "    train_loss, train_acc = train_epoch(model, train_loader, criterion, optimizer, device)\n",
        "    val_loss, val_acc = eval_model(model, test_loader, criterion, device)\n",
        "\n",
        "    print(f\"Epoch {epoch+1}/{num_epochs}:\")\n",
        "    print(f\"  Train loss: {train_loss:.4f}, Train acc: {train_acc:.4f}\")\n",
        "    print(f\"  Val loss:   {val_loss:.4f}, Val acc:   {val_acc:.4f}\")\n",
        "\n",
        "print(\"Entrenamiento completado\")\n"
      ]
    },
    {
      "cell_type": "code",
      "source": [
        "torch.save(model.state_dict(), '/content/drive/MyDrive/style/resnet_finetuned.pth')\n"
      ],
      "metadata": {
        "id": "pvTliNy1ARxS"
      },
      "id": "pvTliNy1ARxS",
      "execution_count": null,
      "outputs": []
    },
    {
      "cell_type": "code",
      "source": [
        "import pandas as pd\n",
        "\n",
        "# Ruta a tu CSV de entrenamiento\n",
        "train_csv_path = '/content/drive/MyDrive/style/train.csv'\n",
        "\n",
        "# Cargar CSV y obtener etiquetas únicas ordenadas\n",
        "df_train = pd.read_csv(train_csv_path)\n",
        "unique_labels = sorted(df_train['label'].unique())\n",
        "\n",
        "# Crear el diccionario label -> índice\n",
        "label_map = {label: idx for idx, label in enumerate(unique_labels)}\n",
        "\n",
        "print(\"label_map =\", label_map)\n"
      ],
      "metadata": {
        "colab": {
          "base_uri": "https://localhost:8080/"
        },
        "id": "FhXkbFN2IyvR",
        "outputId": "aacc4068-7fb4-4c5c-d2b7-b62a7d3ed390"
      },
      "id": "FhXkbFN2IyvR",
      "execution_count": 10,
      "outputs": [
        {
          "output_type": "stream",
          "name": "stdout",
          "text": [
            "label_map = {'asian': 0, 'coastal': 1, 'contemporary': 2, 'craftsman': 3, 'eclectic': 4, 'farmhouse': 5, 'french-country': 6, 'industrial': 7, 'mediterranean': 8, 'mid-century-modern': 9, 'modern': 10, 'rustic': 11, 'scandinavian': 12, 'shabby-chic-style': 13, 'southwestern': 14, 'traditional': 15, 'transitional': 16, 'tropical': 17, 'victorian': 18}\n"
          ]
        }
      ]
    },
    {
      "cell_type": "code",
      "source": [],
      "metadata": {
        "id": "zC7woYF9X11D"
      },
      "id": "zC7woYF9X11D",
      "execution_count": null,
      "outputs": []
    }
  ],
  "metadata": {
    "kernelspec": {
      "display_name": "Python 3",
      "name": "python3"
    },
    "language_info": {
      "codemirror_mode": {
        "name": "ipython",
        "version": 3
      },
      "file_extension": ".py",
      "mimetype": "text/x-python",
      "name": "python",
      "nbconvert_exporter": "python",
      "pygments_lexer": "ipython3",
      "version": "3.10.12"
    },
    "colab": {
      "provenance": [],
      "gpuType": "T4"
    },
    "accelerator": "GPU"
  },
  "nbformat": 4,
  "nbformat_minor": 5
}